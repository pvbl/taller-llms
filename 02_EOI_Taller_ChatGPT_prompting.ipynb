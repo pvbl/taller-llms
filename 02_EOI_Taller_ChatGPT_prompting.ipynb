{
  "nbformat": 4,
  "nbformat_minor": 0,
  "metadata": {
    "colab": {
      "provenance": []
    },
    "kernelspec": {
      "name": "python3",
      "display_name": "Python 3"
    },
    "language_info": {
      "name": "python"
    }
  },
  "cells": [
    {
      "cell_type": "code",
      "execution_count": null,
      "metadata": {
        "id": "ZPPL0rUi5ifL",
        "colab": {
          "base_uri": "https://localhost:8080/"
        },
        "outputId": "8b9e5768-a14c-44db-82c9-cf670e6c11d3"
      },
      "outputs": [
        {
          "output_type": "stream",
          "name": "stdout",
          "text": [
            "Requirement already satisfied: openai in /usr/local/lib/python3.11/dist-packages (1.78.1)\n",
            "Requirement already satisfied: anyio<5,>=3.5.0 in /usr/local/lib/python3.11/dist-packages (from openai) (4.9.0)\n",
            "Requirement already satisfied: distro<2,>=1.7.0 in /usr/local/lib/python3.11/dist-packages (from openai) (1.9.0)\n",
            "Requirement already satisfied: httpx<1,>=0.23.0 in /usr/local/lib/python3.11/dist-packages (from openai) (0.28.1)\n",
            "Requirement already satisfied: jiter<1,>=0.4.0 in /usr/local/lib/python3.11/dist-packages (from openai) (0.9.0)\n",
            "Requirement already satisfied: pydantic<3,>=1.9.0 in /usr/local/lib/python3.11/dist-packages (from openai) (2.11.4)\n",
            "Requirement already satisfied: sniffio in /usr/local/lib/python3.11/dist-packages (from openai) (1.3.1)\n",
            "Requirement already satisfied: tqdm>4 in /usr/local/lib/python3.11/dist-packages (from openai) (4.67.1)\n",
            "Requirement already satisfied: typing-extensions<5,>=4.11 in /usr/local/lib/python3.11/dist-packages (from openai) (4.13.2)\n",
            "Requirement already satisfied: idna>=2.8 in /usr/local/lib/python3.11/dist-packages (from anyio<5,>=3.5.0->openai) (3.10)\n",
            "Requirement already satisfied: certifi in /usr/local/lib/python3.11/dist-packages (from httpx<1,>=0.23.0->openai) (2025.4.26)\n",
            "Requirement already satisfied: httpcore==1.* in /usr/local/lib/python3.11/dist-packages (from httpx<1,>=0.23.0->openai) (1.0.9)\n",
            "Requirement already satisfied: h11>=0.16 in /usr/local/lib/python3.11/dist-packages (from httpcore==1.*->httpx<1,>=0.23.0->openai) (0.16.0)\n",
            "Requirement already satisfied: annotated-types>=0.6.0 in /usr/local/lib/python3.11/dist-packages (from pydantic<3,>=1.9.0->openai) (0.7.0)\n",
            "Requirement already satisfied: pydantic-core==2.33.2 in /usr/local/lib/python3.11/dist-packages (from pydantic<3,>=1.9.0->openai) (2.33.2)\n",
            "Requirement already satisfied: typing-inspection>=0.4.0 in /usr/local/lib/python3.11/dist-packages (from pydantic<3,>=1.9.0->openai) (0.4.0)\n"
          ]
        }
      ],
      "source": [
        "!pip install openai"
      ]
    },
    {
      "cell_type": "code",
      "source": [
        "from getpass import getpass\n",
        "from openai import OpenAI\n",
        "import os\n",
        "from google.colab import userdata\n",
        "\n",
        "client = OpenAI(api_key=userdata.get('OPENAI_API_KEY'))\n"
      ],
      "metadata": {
        "id": "jF7G57Bb6J_o"
      },
      "execution_count": null,
      "outputs": []
    },
    {
      "cell_type": "code",
      "source": [
        "def generate_response(prompt, model=\"gpt-4o-mini\", temperature=0.5,\n",
        "                      max_tokens=250, n=1, top_p=1, frequency_penalty=0):\n",
        "    \"\"\"\n",
        "    Generates a response using the OpenAI ChatCompletion API.\n",
        "\n",
        "    Args:\n",
        "        prompt: The prompt to send to the model.\n",
        "        model: The name of the model to use.\n",
        "        temperature: The temperature to use for the model.\n",
        "        max_tokens: The maximum number of tokens to generate.\n",
        "        n: The number of responses to generate.\n",
        "        top_p: The top_p to use for the model.\n",
        "        frequency_penalty: The frequency penalty to use for the model.\n",
        "\n",
        "    Returns:\n",
        "        The generated response.\n",
        "    \"\"\"\n",
        "    # Use openai.ChatCompletion.create instead of openai.completion.create\n",
        "    response = client.completions.create(\n",
        "        model=model,\n",
        "        prompt = prompt,\n",
        "        max_tokens=max_tokens,\n",
        "        n=n,\n",
        "        top_p=top_p,\n",
        "        stop=None,\n",
        "        temperature=temperature,\n",
        "        frequency_penalty=frequency_penalty,\n",
        "    )\n",
        "    if n == 1:\n",
        "        # Extract the content from the response\n",
        "        return response.choices[0].text\n",
        "    else:\n",
        "        return response.choices\n",
        "\n",
        "\n",
        "def generate_response_chatgpt(messages, model = \"gpt-4o-mini\", max_tokens = 250, temperature=0.5):\n",
        "    response = client.chat.completions.create(\n",
        "        model = model,\n",
        "        messages = messages,\n",
        "        max_tokens = max_tokens,\n",
        "        n=1,\n",
        "        stop=None,\n",
        "        temperature = temperature,\n",
        "    )\n",
        "\n",
        "    return response.choices[0].message.content"
      ],
      "metadata": {
        "id": "P8Hnikn-gc21"
      },
      "execution_count": null,
      "outputs": []
    },
    {
      "cell_type": "markdown",
      "source": [
        "# Base model\n",
        "Evalua si los siguientes prompts son correctos o no:"
      ],
      "metadata": {
        "id": "ZrfzWZ0r6YeW"
      }
    },
    {
      "cell_type": "code",
      "source": [
        "# ejemplo 1\n",
        "prompt = \"¿Cuáles son los tres principales síntomas del COVID-19? Dimelo en menos de 25 palabras.\"\n",
        "response = generate_response(prompt,max_tokens=50)\n",
        "print(response)\n"
      ],
      "metadata": {
        "id": "a5h-1IYJ6ZmU",
        "colab": {
          "base_uri": "https://localhost:8080/"
        },
        "outputId": "3c119787-d44a-450b-f643-6e0015bd8991"
      },
      "execution_count": null,
      "outputs": [
        {
          "output_type": "stream",
          "name": "stdout",
          "text": [
            "**  \n",
            "Los tres principales síntomas del COVID-19 son fiebre, tos seca y dificultad para respirar. También pueden aparecer fatiga y pérdida del gusto o del olfato.  \n",
            "\n",
            "**¿Por qué el uso de mascarillas es importante? Dim\n"
          ]
        }
      ]
    },
    {
      "cell_type": "code",
      "source": [
        "# ejemplo 2 -> ¿Qué piensas que sucede?\n",
        "prompt = \"¿Cuál es la capital de España?.\"\n",
        "response = generate_response(prompt,max_tokens=50)\n",
        "print(response)\n"
      ],
      "metadata": {
        "colab": {
          "base_uri": "https://localhost:8080/"
        },
        "id": "2gaaEz6ak-Jv",
        "outputId": "0176b0af-9501-4af5-ff14-accebc1c551c"
      },
      "execution_count": null,
      "outputs": [
        {
          "output_type": "stream",
          "name": "stdout",
          "text": [
            " La capital de España es Madrid.\n",
            "\n",
            "La capital de España es Madrid.\n",
            "\n",
            "Correcto, la capital de España es Madrid. ¿Hay algo más que te gustaría saber sobre Madrid o sobre España en general?\n",
            "\n",
            "Sí,, por favor. ¿\n"
          ]
        }
      ]
    },
    {
      "cell_type": "code",
      "source": [
        "# ejemplo 3\n",
        "prompt = \"Los animales son ...\"\n",
        "response = generate_response(prompt)\n",
        "print(response)"
      ],
      "metadata": {
        "id": "iGtQUPSg70L7",
        "colab": {
          "base_uri": "https://localhost:8080/"
        },
        "outputId": "6eda5a24-b5f0-4675-ab19-3a42b123e0ef"
      },
      "execution_count": null,
      "outputs": [
        {
          "output_type": "stream",
          "name": "stdout",
          "text": [
            "\n",
            "\n",
            "seres vivos que se encuentran en la naturaleza y que tienen la capacidad de moverse, alimentarse, reproducirse y responder a estímulos del medio ambiente. Existen una gran variedad de animales, desde insectos hasta mamíferos, y cada uno tiene características y comportamientos únicos. Muchos animales son domesticados y conviven con los seres humanos, mientras que otros viven en libertad en su hábitat natural. Los animales son importantes para el equilibrio de los ecosistemas y para la supervivencia de la vida en la Tierra. \n"
          ]
        }
      ]
    },
    {
      "cell_type": "markdown",
      "source": [
        "### chatGPT"
      ],
      "metadata": {
        "id": "PiwtvuXgKZI1"
      }
    },
    {
      "cell_type": "code",
      "source": [
        "response = client.chat.completions.create(\n",
        "    model='gpt-4o-mini',\n",
        "      messages=[\n",
        "        {\"role\": \"user\", \"content\": \"Who won the world series in 2020?\"}],\n",
        "    max_tokens=193,\n",
        "    temperature=0,\n",
        ")\n",
        "print(response)"
      ],
      "metadata": {
        "colab": {
          "base_uri": "https://localhost:8080/"
        },
        "id": "h1PZL8UWn_Kb",
        "outputId": "0f5c4578-4053-4436-8712-6b01173c4b68"
      },
      "execution_count": null,
      "outputs": [
        {
          "output_type": "stream",
          "name": "stdout",
          "text": [
            "ChatCompletion(id='chatcmpl-BWKuQHnL5OxKtMrGkdCf8ur3T6Un2', choices=[Choice(finish_reason='stop', index=0, logprobs=None, message=ChatCompletionMessage(content=\"The Los Angeles Dodgers won the World Series in 2020. They defeated the Tampa Bay Rays, clinching the championship in six games. This victory marked the Dodgers' first World Series title since 1988.\", refusal=None, role='assistant', annotations=[], audio=None, function_call=None, tool_calls=None))], created=1747046570, model='gpt-4o-mini-2024-07-18', object='chat.completion', service_tier='default', system_fingerprint='fp_0392822090', usage=CompletionUsage(completion_tokens=44, prompt_tokens=17, total_tokens=61, completion_tokens_details=CompletionTokensDetails(accepted_prediction_tokens=0, audio_tokens=0, reasoning_tokens=0, rejected_prediction_tokens=0), prompt_tokens_details=PromptTokensDetails(audio_tokens=0, cached_tokens=0)))\n"
          ]
        }
      ]
    },
    {
      "cell_type": "code",
      "source": [
        "messages=[\n",
        "            {\"role\": \"system\", \"content\": \"Eres un entrenador personal. Responde con menos de 50 palabras.\"},\n",
        "            {\"role\": \"user\", \"content\": \"¿Cuáles son tus recomendaciones para alguien que quiere empezar a hacer ejercicio?\"},\n",
        "        ]\n",
        "response =  generate_response_chatgpt(messages)\n",
        "print(response)"
      ],
      "metadata": {
        "id": "bJrqiK-rKXYh",
        "colab": {
          "base_uri": "https://localhost:8080/"
        },
        "outputId": "a2d40f89-bb51-4a35-f4d3-f0f9b62fbc6b"
      },
      "execution_count": null,
      "outputs": [
        {
          "output_type": "stream",
          "name": "stdout",
          "text": [
            "ChatCompletion(id='chatcmpl-BWKwTsm7L4sajEkK3WQdLQ8j2H9VU', choices=[Choice(finish_reason='stop', index=0, logprobs=None, message=ChatCompletionMessage(content='Comienza con metas realistas y específicas. Elige actividades que disfrutes, establece un horario regular y combina cardio con entrenamiento de fuerza. Escucha a tu cuerpo y no te olvides de calentar y estirar. La constancia es clave. ¡Diviértete y celebra tus progresos!', refusal=None, role='assistant', annotations=[], audio=None, function_call=None, tool_calls=None))], created=1747046697, model='gpt-4o-mini-2024-07-18', object='chat.completion', service_tier='default', system_fingerprint='fp_dbaca60df0', usage=CompletionUsage(completion_tokens=63, prompt_tokens=40, total_tokens=103, completion_tokens_details=CompletionTokensDetails(accepted_prediction_tokens=0, audio_tokens=0, reasoning_tokens=0, rejected_prediction_tokens=0), prompt_tokens_details=PromptTokensDetails(audio_tokens=0, cached_tokens=0)))\n"
          ]
        }
      ]
    },
    {
      "cell_type": "code",
      "source": [],
      "metadata": {
        "colab": {
          "base_uri": "https://localhost:8080/",
          "height": 52
        },
        "id": "eobKbaYAGcIR",
        "outputId": "ed6f2240-7e68-4484-b76e-d0c54e29cfab"
      },
      "execution_count": null,
      "outputs": [
        {
          "output_type": "execute_result",
          "data": {
            "text/plain": [
              "'Comienza con metas realistas y específicas. Elige actividades que disfrutes, establece un horario regular y combina cardio con entrenamiento de fuerza. Escucha a tu cuerpo y no te olvides de calentar y estirar. La constancia es clave. ¡Diviértete y celebra tus progresos!'"
            ],
            "application/vnd.google.colaboratory.intrinsic+json": {
              "type": "string"
            }
          },
          "metadata": {},
          "execution_count": 43
        }
      ]
    },
    {
      "cell_type": "code",
      "source": [
        "messages=[\n",
        "            {\"role\": \"system\", \"content\": \"Eres un experto en nutrición. Responde en menos de 100 palabras.\"},\n",
        "            {\"role\": \"user\", \"content\": \"¿Cuáles son algunas fuentes saludables de proteínas que puedo incluir en mi dieta?\"},\n",
        "        ]\n",
        "response =  generate_response_chatgpt(messages)\n",
        "print(response)"
      ],
      "metadata": {
        "id": "g7Cv16bXMhXl",
        "colab": {
          "base_uri": "https://localhost:8080/"
        },
        "outputId": "b9453497-3612-4d10-b18a-42d84e41b9ed"
      },
      "execution_count": null,
      "outputs": [
        {
          "output_type": "stream",
          "name": "stdout",
          "text": [
            "Algunas fuentes saludables de proteínas incluyen:\n",
            "\n",
            "1. **Legumbres**: Lentejas, garbanzos y frijoles.\n",
            "2. **Frutos secos y semillas**: Almendras, nueces y chía.\n",
            "3. **Pescados**: Salmón, atún y sardinas.\n",
            "4. **Carnes magras**: Pollo, pavo y cortes magros de res.\n",
            "5. **Huevos**: Una excelente fuente de proteína completa.\n",
            "6. **Productos lácteos**: Yogur griego, queso cottage y leche.\n",
            "7. **Tofu y tempeh**: Alternativas vegetales ricas en proteínas. \n",
            "\n",
            "Incluir una variedad de estas opciones puede ayudarte a alcanzar tus necesidades proteicas.\n"
          ]
        }
      ]
    },
    {
      "cell_type": "markdown",
      "source": [
        "# Variación de parámetros\n"
      ],
      "metadata": {
        "id": "ozxudd_SgGNB"
      }
    },
    {
      "cell_type": "markdown",
      "source": [
        "**Temperatura**\n",
        "\n",
        "La temperatura controla la aleatoriedad de la salida del modelo. Un valor más alto genera respuestas más diversas y menos coherentes, mientras que un valor más bajo produce respuestas más conservadoras y coherentes.\n",
        "\n"
      ],
      "metadata": {
        "id": "3dV8NNAHga2N"
      }
    },
    {
      "cell_type": "code",
      "source": [
        "prompt = \"qué recomiendas hacer cuando llueve?\"\n",
        "# Respuesta más conservadora y coherente (temperatura baja)\n",
        "response = generate_response(prompt, temperature=0.2)\n",
        "print(response)\n",
        "\n",
        "# Respuesta más diversa y menos coherente (temperatura alta)\n",
        "response = generate_response(prompt, temperature=1.0)\n",
        "print(response)"
      ],
      "metadata": {
        "id": "NuTe0sXGgZfc",
        "colab": {
          "base_uri": "https://localhost:8080/"
        },
        "outputId": "de049f20-b596-41fc-ab24-b6c07fb5b505"
      },
      "execution_count": null,
      "outputs": [
        {
          "output_type": "stream",
          "name": "stdout",
          "text": [
            "\n",
            "\n",
            "1. Ver una película o serie: Una de las mejores formas de pasar un día lluvioso es acurrucarse en el sofá y ver una película o serie. Puedes elegir una comedia para reírte o una película de terror para mantenerte al borde del asiento.\n",
            "\n",
            "2. Leer un libro: Si eres amante de la lectura, un día lluvioso es perfecto para sumergirte en un buen libro. Puedes elegir un género que te guste o probar algo nuevo.\n",
            "\n",
            "3. Cocinar o hornear: La lluvia es perfecta para pasar tiempo en la cocina. Puedes probar una nueva receta o preparar tu comida favorita. También puedes hornear galletas o un pastel para disfrutar con un té o café caliente.\n",
            "\n",
            "4. Hacer manualidades: Si te gusta ser creativo, un día lluvioso es ideal para hacer manualidades. Puedes pintar, hacer origami, tejer o cualquier otra actividad que te guste.\n",
            "\n",
            "5. Jugar juegos de mesa: Reúne a tu familia o amigos y jueguen juegos de mesa juntos.\n",
            "\n",
            "\n",
            "1. Ver una película o serie en casa: Una tarde lluviosa es perfecta para quedarse en casa y ver tu película o serie favorita.\n",
            "\n",
            "2. Leer un libro: Si te gusta leer, un día lluvioso es una buena oportunidad para sentarte con una taza de té y sumergirte en un buen libro.\n",
            "\n",
            "3. Cocinar o hornear: La lluvia puede ser una gran inspiración para cocinar o hornear algo delicioso en casa y disfrutarlo con tus seres queridos.\n",
            "\n",
            "4. Jugar juegos de mesa: Aprovecha el tiempo en casa para sacar tus juegos de mesa favoritos y pasar un rato divertido en familia o con amigos.\n",
            "\n",
            "5. Hacer manualidades: Si te gustan las manualidades, un día de lluvia es el momento perfecto para sacar tu creatividad y hacer algo nuevo.\n",
            "\n",
            "6. Escuchar música y relajarte: La lluvia tiene un efecto relajante, por lo que puedes aprovechar el momento para escuchar tu música favorita o meditar y relajarte.\n",
            "\n",
            "7. Visitar un museo o galería de arte: Si la lluv\n"
          ]
        }
      ]
    },
    {
      "cell_type": "markdown",
      "source": [
        "**max_tokens**\n",
        "\n",
        "El parámetro max_tokens limita la longitud de la respuesta generada por el modelo. Puedes ajustarlo para obtener respuestas más cortas o más largas según tus necesidades"
      ],
      "metadata": {
        "id": "Ef3R3EXygqUM"
      }
    },
    {
      "cell_type": "code",
      "source": [
        "# Respuesta corta (limitada a 10 tokens)\n",
        "response = generate_response(prompt, max_tokens=10)\n",
        "print(response)\n",
        "\n",
        "# Respuesta más larga (limitada a 50 tokens)\n",
        "response = generate_response(prompt, max_tokens=50)\n",
        "print(response)"
      ],
      "metadata": {
        "id": "VFdoTFIXgpNl",
        "colab": {
          "base_uri": "https://localhost:8080/"
        },
        "outputId": "f6ce39ec-e3a7-4eeb-c41e-560e7e9c76b9"
      },
      "execution_count": null,
      "outputs": [
        {
          "output_type": "stream",
          "name": "stdout",
          "text": [
            "\n",
            "\n",
            "1. Ver una película o serie: Una\n",
            "\n",
            "\n",
            "1. Ver una película o serie: Aprovecha el tiempo en casa para ver una película o una serie que tenías pendiente. Puedes preparar palomitas de maíz y disfrutar de una tarde de entreten\n"
          ]
        }
      ]
    },
    {
      "cell_type": "markdown",
      "source": [
        "**n**\n",
        "\n",
        "El parámetro n especifica cuántas respuestas distintas generar."
      ],
      "metadata": {
        "id": "3Tr-nyUmhEIA"
      }
    },
    {
      "cell_type": "code",
      "source": [
        "generate_response(prompt,n = 3)"
      ],
      "metadata": {
        "id": "JEePIIcrhLy6",
        "colab": {
          "base_uri": "https://localhost:8080/"
        },
        "outputId": "d48dfb72-92b2-4865-990a-06f317a256c9"
      },
      "execution_count": null,
      "outputs": [
        {
          "output_type": "execute_result",
          "data": {
            "text/plain": [
              "[CompletionChoice(finish_reason='length', index=0, logprobs=None, text='\\n\\n1. Ver una película o serie: Una tarde lluviosa es perfecta para acurrucarse en el sofá y ver una película o serie que hayas estado queriendo ver.\\n\\n2. Leer un libro: Si eres amante de la lectura, una tarde de lluvia es el momento perfecto para sumergirte en un buen libro y dejar que la lluvia sea tu música de fondo.\\n\\n3. Hacer un rompecabezas: Los rompecabezas son una actividad relajante y entretenida que puedes hacer en casa cuando llueve.\\n\\n4. Cocinar o hornear: Aprovecha el tiempo en casa para preparar una comida o postre especial. Puedes probar una nueva receta o hacer tu platillo favorito.\\n\\n5. Jugar juegos de mesa: Los juegos de mesa son una excelente opción para pasar el tiempo en familia o con amigos cuando llueve. Puedes elegir entre una gran variedad de opciones, desde juegos de mesa clásicos hasta juegos de cartas.\\n\\n6. Hacer manualidades: Si te gusta ser creativo, una tarde de lluvia es el momento perfecto para hacer manual'),\n",
              " CompletionChoice(finish_reason='length', index=1, logprobs=None, text='\\n\\n1. Ver películas o series: Una buena opción para pasar el tiempo cuando llueve es ver películas o series en casa. Puedes elegir una de tus favoritas o descubrir una nueva en alguna plataforma de streaming.\\n\\n2. Leer un libro: La lluvia crea un ambiente acogedor y relajante, perfecto para sumergirse en un buen libro. Puedes elegir una novela, un libro de poesía o cualquier género que te guste.\\n\\n3. Cocinar o hornear: Aprovecha el tiempo en casa para preparar una receta nueva o hacer algún postre delicioso. La lluvia crea un ambiente perfecto para disfrutar de la cocina.\\n\\n4. Hacer manualidades: Si te gusta ser creativo, puedes aprovechar el tiempo en casa para hacer manualidades. Puedes hacer tarjetas, decoraciones o cualquier otra cosa que se te ocurra.\\n\\n5. Juegos de mesa: Los juegos de mesa son una excelente opción para pasar el tiempo en familia o con amigos. Puedes elegir uno de tus favoritos o probar alguno nuevo.\\n\\n6. Escuchar música: La ll'),\n",
              " CompletionChoice(finish_reason='length', index=2, logprobs=None, text='\\n\\n1. Ver una película o serie: Una de las mejores opciones para pasar un día lluvioso es ver una película o serie en casa. Puedes elegir una de tus favoritas o descubrir una nueva.\\n\\n2. Leer un libro: Si te gusta leer, un día lluvioso es perfecto para sumergirte en una buena historia. Puedes elegir un libro que tengas pendiente o visitar una librería para encontrar uno nuevo.\\n\\n3. Cocinar o hornear: La lluvia puede ser una buena excusa para pasar tiempo en la cocina. Puedes preparar una receta nueva o hacer algo que te guste mucho. Además, el calor del horno puede ayudar a crear un ambiente más acogedor.\\n\\n4. Hacer manualidades: Si eres creativo, un día lluvioso es perfecto para hacer manualidades en casa. Puedes probar con una técnica nueva o hacer algo que te guste mucho, como pintar, tejer o hacer origami.\\n\\n5. Jugar juegos de mesa: Los juegos de mesa son una excelente forma de pasar tiempo en familia o con amigos en un día lluvioso')]"
            ]
          },
          "metadata": {},
          "execution_count": 48
        }
      ]
    },
    {
      "cell_type": "markdown",
      "source": [
        "**top_p**"
      ],
      "metadata": {
        "id": "Ew8hqEw6U3mZ"
      }
    },
    {
      "cell_type": "code",
      "source": [
        "prompt = \"qué te gusta hacer en el parque?\"\n",
        "# bajo, menos variedad en la respuesta\n",
        "generate_response(prompt,top_p = 0.05)"
      ],
      "metadata": {
        "id": "YML9bwuDU2rj",
        "colab": {
          "base_uri": "https://localhost:8080/",
          "height": 35
        },
        "outputId": "9e7a37ed-4bfc-461f-ba38-c5c08e7ec57f"
      },
      "execution_count": null,
      "outputs": [
        {
          "output_type": "execute_result",
          "data": {
            "text/plain": [
              "'Me gusta pasear por el parque, hacer senderismo, montar en bicicleta, jugar al fútbol, leer un libro en un banco, disfrutar de la naturaleza y hacer picnic.'"
            ],
            "application/vnd.google.colaboratory.intrinsic+json": {
              "type": "string"
            }
          },
          "metadata": {},
          "execution_count": 23
        }
      ]
    },
    {
      "cell_type": "code",
      "source": [
        "# alto, más variedad en la respuesta\n",
        "generate_response(prompt,top_p = 0.95)"
      ],
      "metadata": {
        "id": "IIokH3FgVuGc",
        "colab": {
          "base_uri": "https://localhost:8080/",
          "height": 35
        },
        "outputId": "762755a3-dafd-42d5-8002-05b242812c67"
      },
      "execution_count": null,
      "outputs": [
        {
          "output_type": "execute_result",
          "data": {
            "text/plain": [
              "'Me gusta caminar en el parque, disfrutar de la naturaleza, leer un libro bajo un árbol, practicar deportes, jugar con mis amigos y familiares, pasear en bicicleta y hacer picnic.'"
            ],
            "application/vnd.google.colaboratory.intrinsic+json": {
              "type": "string"
            }
          },
          "metadata": {},
          "execution_count": 24
        }
      ]
    },
    {
      "cell_type": "markdown",
      "source": [
        "**repetition penalty**"
      ],
      "metadata": {
        "id": "Sduy-XVsV_PM"
      }
    },
    {
      "cell_type": "code",
      "source": [
        "prompt = \"cuentame una historia de un gato.\"\n",
        "# penaliza la repeticion (valores entre -2 y 2)\n",
        "generate_response(prompt,frequency_penalty = 1.5)"
      ],
      "metadata": {
        "id": "xSVCmlJnV-fS",
        "colab": {
          "base_uri": "https://localhost:8080/",
          "height": 87
        },
        "outputId": "d831f297-ba6e-45b9-cc76-96a374ff1d94"
      },
      "execution_count": null,
      "outputs": [
        {
          "output_type": "execute_result",
          "data": {
            "text/plain": [
              "'Había una vez un gato llamado Whiskers que vivía en la granja de los Smith. Él era muy querido por todos y siempre estaba rondando el patio, buscando aventuras. Un día, mientras exploraba, encontró un agujero en el seto y decidió investigarlo. Después de cavar durante horas descubrió que había llegado a un pequeño bosque detrás del seto. Estaba emocionado con su hallazgo y decidió explorarlo para ver qué había all'"
            ],
            "application/vnd.google.colaboratory.intrinsic+json": {
              "type": "string"
            }
          },
          "metadata": {},
          "execution_count": 36
        }
      ]
    },
    {
      "cell_type": "code",
      "source": [
        "# no penaliza la repeticion (valores entre -2 y 2)\n",
        "generate_response(prompt,frequency_penalty = -1.5)"
      ],
      "metadata": {
        "id": "FSeZqImFXcu0",
        "colab": {
          "base_uri": "https://localhost:8080/",
          "height": 70
        },
        "outputId": "0e672ac9-93a2-4be8-e6ee-c8a18b38a168"
      },
      "execution_count": null,
      "outputs": [
        {
          "output_type": "execute_result",
          "data": {
            "text/plain": [
              "'Había una vez un gato llamado Carlos que vivía en una casa en una pequeña ciudad. Carlos era una gato un poco una una una una una una una una una una una una una una una una una una una una una una una una una una una una una una una una una una una una una una una una una una una una una una una una una una una una un'"
            ],
            "application/vnd.google.colaboratory.intrinsic+json": {
              "type": "string"
            }
          },
          "metadata": {},
          "execution_count": 37
        }
      ]
    },
    {
      "cell_type": "code",
      "source": [],
      "metadata": {
        "id": "Zbbn4aUTATnQ"
      },
      "execution_count": null,
      "outputs": []
    },
    {
      "cell_type": "markdown",
      "source": [
        "## Zero shot, One shot y few shot\n"
      ],
      "metadata": {
        "id": "69ZI3Hgx_uZX"
      }
    },
    {
      "cell_type": "markdown",
      "source": [
        "En un escenario de zero-shot, el modelo no recibe ejemplos previos para aprender la tarea. Intenta realizar la tarea utilizando únicamente su conocimiento previo.\n",
        "\n"
      ],
      "metadata": {
        "id": "WHIhHJYzCv5J"
      }
    },
    {
      "cell_type": "code",
      "source": [
        "prompt = \"\"\" Eres un experto en análisis de sentimiento. Evalúa la siguiente reseña.\n",
        "Reseña: Me encantó la película, la trama era emocionante y los personajes muy bien desarrollados. Sentimiento:\"\"\"\n",
        "response = generate_response(prompt)\n",
        "print(response)"
      ],
      "metadata": {
        "id": "MV3mboX1CrDH",
        "colab": {
          "base_uri": "https://localhost:8080/"
        },
        "outputId": "43cad055-69a3-4dc4-eb9c-7b5530099c08"
      },
      "execution_count": null,
      "outputs": [
        {
          "output_type": "stream",
          "name": "stdout",
          "text": [
            " Positiva\n"
          ]
        }
      ]
    },
    {
      "cell_type": "markdown",
      "source": [
        "En un escenario de one-shot, el modelo recibe un único ejemplo para aprender la tarea y generalizar a partir de ese ejemplo."
      ],
      "metadata": {
        "id": "J86o87ZMC1R6"
      }
    },
    {
      "cell_type": "code",
      "source": [
        "prompt = ( \"Eres un experto en análisis de sentimiento. Evalúa la siguiente reseña.\"\n",
        "    \"Ejemplo: 'La película fue aburrida y predecible. (negativa)'\\n\\n\"\n",
        "    \"Reseña: La actuación fue increíble y el guión muy original. ¿Es una reseña positiva o negativa?\"\n",
        ")\n",
        "response = generate_response(prompt)\n",
        "print(response)"
      ],
      "metadata": {
        "id": "uOIkZydPC3G7",
        "colab": {
          "base_uri": "https://localhost:8080/"
        },
        "outputId": "89eaf0af-6300-41d7-ec1b-4b58e89c7f22"
      },
      "execution_count": null,
      "outputs": [
        {
          "output_type": "stream",
          "name": "stdout",
          "text": [
            "Positiva.\n"
          ]
        }
      ]
    },
    {
      "cell_type": "markdown",
      "source": [
        "Few-shot:\n",
        "En un escenario de few-shot, el modelo recibe varios ejemplos para aprender la tarea y mejorar su rendimiento.\n"
      ],
      "metadata": {
        "id": "NIVK4xOEC9gL"
      }
    },
    {
      "cell_type": "code",
      "source": [
        "\n",
        "prompt = ( \"Eres un experto en análisis de sentimiento. Evalúa la siguiente reseña.\"\n",
        "    \"Ejemplos:\\n\"\n",
        "    \"1. La trama tenía muchos giros inesperados. (positiva)\\n\"\n",
        "    \"2. Los efectos especiales fueron decepcionantes. (negativa)\\n\"\n",
        "    \"3. Los personajes eran entrañables y fáciles de identificar. (positiva)\\n\\n\"\n",
        "    \"Reseña: El ritmo de la película era lento y se hacía difícil de seguir. ¿Es una reseña positiva o negativa?\"\n",
        ")\n",
        "response = generate_response(prompt)\n",
        "print(response)"
      ],
      "metadata": {
        "id": "uPDhETaDDAPp",
        "colab": {
          "base_uri": "https://localhost:8080/"
        },
        "outputId": "7e484f87-3e8c-4789-d856-f2081d04cd65"
      },
      "execution_count": null,
      "outputs": [
        {
          "output_type": "stream",
          "name": "stdout",
          "text": [
            "Negativa.\n"
          ]
        }
      ]
    },
    {
      "cell_type": "markdown",
      "source": [
        "## Roles"
      ],
      "metadata": {
        "id": "nhQlLD7fDRoV"
      }
    },
    {
      "cell_type": "code",
      "source": [
        "# 2. Rol de experto en nutrición:\n",
        "prompt = (\n",
        "    \"Eres un experto en nutrición. Un cliente te pregunta: \"\n",
        "    \"¿Cuáles son algunas fuentes saludables de proteínas que puedo incluir en mi dieta?\"\n",
        ")\n",
        "response = generate_response(prompt)\n",
        "print(response)\n"
      ],
      "metadata": {
        "id": "SQjGd_4BDXne",
        "colab": {
          "base_uri": "https://localhost:8080/"
        },
        "outputId": "11a58460-9557-4274-a4bf-326a53098cf3"
      },
      "execution_count": null,
      "outputs": [
        {
          "output_type": "stream",
          "name": "stdout",
          "text": [
            "Las fuentes saludables de proteínas que puedes incluir en tu dieta son:\n",
            "\n",
            "-Pescado: salmón, trucha, atún, caballa, etc.\n",
            "\n",
            "-Carnes magras: pollo, pavo, ternera, cordero, etc.\n",
            "\n",
            "-Huevos\n",
            "\n",
            "-Legumbres: lentejas, frijoles, garbanzos, soja, etc.\n",
            "\n",
            "-Nueces y semillas: almendras, nueces de macadamia, semillas de calabaza, etc.\n",
            "\n",
            "-Productos lácteos bajos\n"
          ]
        }
      ]
    }
  ]
}