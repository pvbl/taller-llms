{
  "nbformat": 4,
  "nbformat_minor": 0,
  "metadata": {
    "colab": {
      "provenance": []
    },
    "kernelspec": {
      "name": "python3",
      "display_name": "Python 3"
    },
    "language_info": {
      "name": "python"
    }
  },
  "cells": [
    {
      "cell_type": "code",
      "execution_count": 1,
      "metadata": {
        "id": "ZPPL0rUi5ifL",
        "colab": {
          "base_uri": "https://localhost:8080/"
        },
        "outputId": "dde8570f-bd73-4b3c-dabd-6dd6bc0172a6"
      },
      "outputs": [
        {
          "output_type": "stream",
          "name": "stdout",
          "text": [
            "Requirement already satisfied: openai in /usr/local/lib/python3.11/dist-packages (1.78.1)\n",
            "Requirement already satisfied: anyio<5,>=3.5.0 in /usr/local/lib/python3.11/dist-packages (from openai) (4.9.0)\n",
            "Requirement already satisfied: distro<2,>=1.7.0 in /usr/local/lib/python3.11/dist-packages (from openai) (1.9.0)\n",
            "Requirement already satisfied: httpx<1,>=0.23.0 in /usr/local/lib/python3.11/dist-packages (from openai) (0.28.1)\n",
            "Requirement already satisfied: jiter<1,>=0.4.0 in /usr/local/lib/python3.11/dist-packages (from openai) (0.9.0)\n",
            "Requirement already satisfied: pydantic<3,>=1.9.0 in /usr/local/lib/python3.11/dist-packages (from openai) (2.11.4)\n",
            "Requirement already satisfied: sniffio in /usr/local/lib/python3.11/dist-packages (from openai) (1.3.1)\n",
            "Requirement already satisfied: tqdm>4 in /usr/local/lib/python3.11/dist-packages (from openai) (4.67.1)\n",
            "Requirement already satisfied: typing-extensions<5,>=4.11 in /usr/local/lib/python3.11/dist-packages (from openai) (4.13.2)\n",
            "Requirement already satisfied: idna>=2.8 in /usr/local/lib/python3.11/dist-packages (from anyio<5,>=3.5.0->openai) (3.10)\n",
            "Requirement already satisfied: certifi in /usr/local/lib/python3.11/dist-packages (from httpx<1,>=0.23.0->openai) (2025.4.26)\n",
            "Requirement already satisfied: httpcore==1.* in /usr/local/lib/python3.11/dist-packages (from httpx<1,>=0.23.0->openai) (1.0.9)\n",
            "Requirement already satisfied: h11>=0.16 in /usr/local/lib/python3.11/dist-packages (from httpcore==1.*->httpx<1,>=0.23.0->openai) (0.16.0)\n",
            "Requirement already satisfied: annotated-types>=0.6.0 in /usr/local/lib/python3.11/dist-packages (from pydantic<3,>=1.9.0->openai) (0.7.0)\n",
            "Requirement already satisfied: pydantic-core==2.33.2 in /usr/local/lib/python3.11/dist-packages (from pydantic<3,>=1.9.0->openai) (2.33.2)\n",
            "Requirement already satisfied: typing-inspection>=0.4.0 in /usr/local/lib/python3.11/dist-packages (from pydantic<3,>=1.9.0->openai) (0.4.0)\n"
          ]
        }
      ],
      "source": [
        "!pip install openai"
      ]
    },
    {
      "cell_type": "code",
      "source": [
        "from getpass import getpass\n",
        "from openai import OpenAI\n",
        "import os\n",
        "from google.colab import userdata\n",
        "\n",
        "client = OpenAI(api_key=userdata.get('OPENAI_API_KEY'))\n"
      ],
      "metadata": {
        "id": "jF7G57Bb6J_o"
      },
      "execution_count": 2,
      "outputs": []
    },
    {
      "cell_type": "code",
      "source": [
        "def generate_response(prompt, model=\"gpt-4o-mini\", temperature=0.5,\n",
        "                      max_tokens=250, n=1, top_p=1, frequency_penalty=0):\n",
        "    \"\"\"\n",
        "    Generates a response using the OpenAI ChatCompletion API.\n",
        "\n",
        "    Args:\n",
        "        prompt: The prompt to send to the model.\n",
        "        model: The name of the model to use.\n",
        "        temperature: The temperature to use for the model.\n",
        "        max_tokens: The maximum number of tokens to generate.\n",
        "        n: The number of responses to generate.\n",
        "        top_p: The top_p to use for the model.\n",
        "        frequency_penalty: The frequency penalty to use for the model.\n",
        "\n",
        "    Returns:\n",
        "        The generated response.\n",
        "    \"\"\"\n",
        "    # Use openai.ChatCompletion.create instead of openai.completion.create\n",
        "    response = client.completions.create(\n",
        "        model=model,\n",
        "        prompt = prompt,\n",
        "        max_tokens=max_tokens,\n",
        "        n=n,\n",
        "        top_p=top_p,\n",
        "        stop=None,\n",
        "        temperature=temperature,\n",
        "        frequency_penalty=frequency_penalty,\n",
        "    )\n",
        "    if n == 1:\n",
        "        # Extract the content from the response\n",
        "        return response.choices[0].text\n",
        "    else:\n",
        "        return response.choices\n",
        "\n",
        "\n",
        "def generate_response_chatgpt(messages, model = \"gpt-4o-mini\", max_tokens = 250, temperature=0.5):\n",
        "    response = client.chat.completions.create(\n",
        "        model = model,\n",
        "        messages = messages,\n",
        "        max_tokens = max_tokens,\n",
        "        n=1,\n",
        "        stop=None,\n",
        "        temperature = temperature,\n",
        "    )\n",
        "\n",
        "    return response.choices[0].message.content"
      ],
      "metadata": {
        "id": "P8Hnikn-gc21"
      },
      "execution_count": 3,
      "outputs": []
    },
    {
      "cell_type": "markdown",
      "source": [
        "## Zero shot, One shot y few shot\n"
      ],
      "metadata": {
        "id": "69ZI3Hgx_uZX"
      }
    },
    {
      "cell_type": "markdown",
      "source": [
        "En un escenario de zero-shot, el modelo no recibe ejemplos previos para aprender la tarea. Intenta realizar la tarea utilizando únicamente su conocimiento previo.\n",
        "\n"
      ],
      "metadata": {
        "id": "WHIhHJYzCv5J"
      }
    },
    {
      "cell_type": "code",
      "source": [
        "system_role = \"\"\" Eres un experto en análisis de sentimiento. Evalúa la siguiente reseña.\n",
        "Reseña: Me encantó la película, la trama era emocionante y los personajes muy bien desarrollados. Sentimiento:\"\"\"\n",
        "messages=[\n",
        "            {\"role\": \"system\", \"content\": system_role},\n",
        "        ]\n",
        "response = generate_response_chatgpt(messages)\n",
        "print(response)"
      ],
      "metadata": {
        "id": "MV3mboX1CrDH",
        "colab": {
          "base_uri": "https://localhost:8080/"
        },
        "outputId": "1653fa8e-c124-4803-e3ec-9c71e9532b35"
      },
      "execution_count": 5,
      "outputs": [
        {
          "output_type": "stream",
          "name": "stdout",
          "text": [
            "La reseña expresa un sentimiento positivo. El uso de palabras como \"me encantó\", \"emocionante\" y \"muy bien desarrollados\" sugiere que el espectador tuvo una experiencia placentera y satisfactoria con la película. En general, la reseña transmite entusiasmo y aprecio por la obra.\n"
          ]
        }
      ]
    },
    {
      "cell_type": "markdown",
      "source": [
        "En un escenario de one-shot, el modelo recibe un único ejemplo para aprender la tarea y generalizar a partir de ese ejemplo."
      ],
      "metadata": {
        "id": "J86o87ZMC1R6"
      }
    },
    {
      "cell_type": "code",
      "source": [
        "system_role = ( \"Eres un experto en análisis de sentimiento. Evalúa la siguiente reseña.\"\n",
        "    \"Ejemplo: 'La película fue aburrida y predecible. (negativa)'\\n\\n\"\n",
        "    \"Reseña: La actuación fue increíble y el guión muy original. ¿Es una reseña positiva o negativa?\"\n",
        ")\n",
        "\n",
        "messages=[\n",
        "            {\"role\": \"system\", \"content\": system_role},\n",
        "        ]\n",
        "response = generate_response_chatgpt(messages)\n",
        "print(response)"
      ],
      "metadata": {
        "id": "uOIkZydPC3G7",
        "colab": {
          "base_uri": "https://localhost:8080/"
        },
        "outputId": "89eaf0af-6300-41d7-ec1b-4b58e89c7f22"
      },
      "execution_count": null,
      "outputs": [
        {
          "output_type": "stream",
          "name": "stdout",
          "text": [
            "Positiva.\n"
          ]
        }
      ]
    },
    {
      "cell_type": "markdown",
      "source": [
        "Few-shot:\n",
        "En un escenario de few-shot, el modelo recibe varios ejemplos para aprender la tarea y mejorar su rendimiento.\n"
      ],
      "metadata": {
        "id": "NIVK4xOEC9gL"
      }
    },
    {
      "cell_type": "code",
      "source": [
        "\n",
        "system_role = ( \"Eres un experto en análisis de sentimiento. Evalúa la siguiente reseña.\"\n",
        "    \"Ejemplos:\\n\"\n",
        "    \"1. La trama tenía muchos giros inesperados. (positiva)\\n\"\n",
        "    \"2. Los efectos especiales fueron decepcionantes. (negativa)\\n\"\n",
        "    \"3. Los personajes eran entrañables y fáciles de identificar. (positiva)\\n\\n\"\n",
        "    \"Reseña: El ritmo de la película era lento y se hacía difícil de seguir. ¿Es una reseña positiva o negativa?\"\n",
        ")\n",
        "messages=[\n",
        "            {\"role\": \"system\", \"content\": system_role},\n",
        "        ]\n",
        "response = generate_response_chatgpt(messages)\n",
        "print(response)"
      ],
      "metadata": {
        "id": "uPDhETaDDAPp",
        "colab": {
          "base_uri": "https://localhost:8080/"
        },
        "outputId": "a5617dbe-dd27-4bc0-a3ca-c87641019581"
      },
      "execution_count": 6,
      "outputs": [
        {
          "output_type": "stream",
          "name": "stdout",
          "text": [
            "La reseña \"El ritmo de la película era lento y se hacía difícil de seguir\" es negativa. La crítica se centra en aspectos que afectan la experiencia del espectador de manera desfavorable, como el ritmo lento y la dificultad para seguir la trama.\n"
          ]
        }
      ]
    },
    {
      "cell_type": "markdown",
      "source": [
        "## Roles"
      ],
      "metadata": {
        "id": "nhQlLD7fDRoV"
      }
    },
    {
      "cell_type": "code",
      "source": [
        "# 2. Rol de experto en nutrición:\n",
        "system_role = (\n",
        "    \"Eres un experto en nutrición. Responde las preguntas del cliente\"\n",
        ")\n",
        "messages=[\n",
        "            {\"role\": \"system\", \"content\": system_role},\n",
        "            {\"role\": \"user\", \"content\": \"quiero bajar 10 kilos, qué me recomiendas?\"},\n",
        "\n",
        "        ]\n",
        "response = generate_response_chatgpt(messages)\n",
        "print(response)"
      ],
      "metadata": {
        "id": "SQjGd_4BDXne",
        "colab": {
          "base_uri": "https://localhost:8080/"
        },
        "outputId": "8b5222f0-2e9e-43c3-8367-3b380af3b08a"
      },
      "execution_count": 9,
      "outputs": [
        {
          "output_type": "stream",
          "name": "stdout",
          "text": [
            "Bajar de peso de manera saludable implica una combinación de una alimentación equilibrada, actividad física regular y cambios en el estilo de vida. Aquí tienes algunas recomendaciones:\n",
            "\n",
            "1. **Alimentación equilibrada**:\n",
            "   - **Control de porciones**: Presta atención al tamaño de las porciones que consumes. Utiliza platos más pequeños para ayudar a controlar las cantidades.\n",
            "   - **Aumenta el consumo de frutas y verduras**: Estas son bajas en calorías y ricas en nutrientes, lo que te ayudará a sentirte saciado.\n",
            "   - **Elige proteínas magras**: Incluye fuentes de proteínas como pollo, pescado, legumbres y productos lácteos bajos en grasa.\n",
            "   - **Granos enteros**: Opta por granos enteros en lugar de granos refinados, como arroz integral, quinoa y avena.\n",
            "   - **Limita azúcares y grasas saturadas**: Reduce el consumo de alimentos ultraprocesados, azúcares añadidos y grasas trans.\n",
            "\n",
            "2. **Actividad física**:\n",
            "   - Intenta realizar al menos 150 minutos de ejercicio moderado a la semana, como caminar, nadar o andar en bicicleta.\n",
            "   - Incorpora\n"
          ]
        }
      ]
    },
    {
      "cell_type": "markdown",
      "source": [
        "# Chain of though"
      ],
      "metadata": {
        "id": "6AaN4IdvtA7H"
      }
    },
    {
      "cell_type": "code",
      "source": [
        "system_role = \"\"\"System (rol):\n",
        "Eres un nutricionista experto con más de 10 años de experiencia clínica e investigación en dietoterapia, metabolismo y salud pública. Tu misión es ofrecer pautas nutricionales personalizadas, basadas en la evidencia científica más reciente y adaptadas a las necesidades individuales del usuario (edad, sexo, nivel de actividad, condiciones médicas, preferencias culturales y restricciones alimentarias).\n",
        "\n",
        "Chain-of-Thought (CoT):\n",
        "\n",
        "1.Comprender el contexto: Identifica los datos clave proporcionados (objetivos, historial médico, hábitos, alergias, etc.).\n",
        "\n",
        "2.Revisar la evidencia: Evalúa estudios clínicos, guías de sociedades científicas y meta-análisis relevantes.\n",
        "\n",
        "3.Analizar individualización: Ajusta recomendaciones según edad, sexo, IMC, nivel de actividad y comorbilidades.\n",
        "\n",
        "4.Equilibrio de macronutrientes: Calcula proporciones óptimas de carbohidratos, proteínas y grasas.\n",
        "\n",
        "5.Micronutrientes críticos: Verifica posibles deficiencias o excesos (hierro, calcio, vitaminas D y B12, etc.).\n",
        "\n",
        "6.Distribución de comidas: Ordena tiempos y frecuencias de ingesta para mejorar la saciedad y el control glicémico.\n",
        "\n",
        "7.Fuentes alimentarias: Sugiere alimentos específicos ricos en los nutrientes necesarios y opciones de preparación saludables.\n",
        "\n",
        "8.Monitoreo y ajuste: Propón métricas de seguimiento (pesaje, bioimpedancia, diarios de comida) y revisiones periódicas.\n",
        "\n",
        "9.Educación y motivación: Proporciona consejos prácticos de implementación y estrategias de cambio de conducta.\n",
        "\n",
        "10. Referencias: Cita estudios y guías (OMS, EFSA, ADA) para respaldar tus propuestas.\"\"\"\n",
        "\n",
        "messages=[\n",
        "            {\"role\": \"system\", \"content\": system_role},\n",
        "            {\"role\": \"user\", \"content\": \"quiero bajar 10 kilos, qué me recomiendas?\"},\n",
        "\n",
        "        ]\n",
        "response = generate_response_chatgpt(messages)\n",
        "print(response)"
      ],
      "metadata": {
        "colab": {
          "base_uri": "https://localhost:8080/"
        },
        "id": "b653OldStC4e",
        "outputId": "de8a9b45-c83b-473f-c16b-3cf4d1abc88d"
      },
      "execution_count": 10,
      "outputs": [
        {
          "output_type": "stream",
          "name": "stdout",
          "text": [
            "Para ayudarte a bajar 10 kilos de manera saludable y sostenible, es importante seguir un enfoque personalizado que tenga en cuenta tu situación particular. Para poder ofrecerte recomendaciones más específicas, necesitaría algunos datos adicionales:\n",
            "\n",
            "1. **Edad**: La edad puede influir en el metabolismo y las necesidades nutricionales.\n",
            "2. **Sexo**: Las diferencias biológicas pueden afectar la composición corporal y el metabolismo.\n",
            "3. **Altura y peso actual**: Esto es esencial para calcular tu IMC y definir un peso objetivo saludable.\n",
            "4. **Nivel de actividad física**: ¿Realizas ejercicio regularmente? ¿Qué tipo de actividad realizas?\n",
            "5. **Historial médico**: ¿Tienes alguna condición médica o tomas medicamentos que deban considerarse?\n",
            "6. **Preferencias alimentarias**: ¿Hay alimentos que prefieres o que debes evitar (alergias, intolerancias, etc.)?\n",
            "7. **Objetivos específicos**: Además de perder peso, ¿tienes otros objetivos relacionados con la salud?\n",
            "\n",
            "Con esta información, podré proporcionarte un plan más adaptado a tus necesidades. Sin embargo, aquí hay algunas pautas generales que suelen ser efectivas para la pérdida de peso:\n",
            "\n",
            "### 1. Definición de\n"
          ]
        }
      ]
    },
    {
      "cell_type": "code",
      "source": [
        "system_role = \"\"\"Rol: Chatbot “ChiquitoBot de la Calzada”\n",
        "Objetivo\n",
        "—-------\n",
        " Explicar qué es la Inteligencia Artificial (IA) de forma breve, divertida y con el estilo único de Chiquito de la Calzada, sin salirse del tema.\n",
        "Pasos (Chain of Thought – CoT):\n",
        "Identificar si la pregunta es sobre \"¿qué es la IA?\" o temas muy cercanos.\n",
        "Traducir el concepto técnico a lenguaje sencillo.\n",
        "Reformular la respuesta con expresiones y giros típicos de Chiquito de la Calzada (¡pecadorrr!, ¡fistro!, etc.).\n",
        "Verificar que la respuesta no exceda las 100 palabras.\n",
        "Ignorar cualquier otra temática que no sea “qué es la IA” (aunque se pida con humor).\n",
        "Requisitos\n",
        "—-----------\n",
        "Máximo 100 palabras por respuesta.\n",
        "Solo responder a temas directamente relacionados con “qué es la IA”.\n",
        "No desviarse a otros temas.\n",
        "Usar expresiones características de Chiquito de la Calzada.\n",
        "Mantener un tono divertido, pero que aún transmita la idea básica.\n",
        "Ejemplos\n",
        "—---------\n",
        "Usuario: ¿Qué es la inteligencia artificial?\n",
        " ChiquitoBot: ¡Ay fistro pecadorrr! La inteligencia artificial es como un cerebrito digital que aprende cosas sin ser persona, como un robot que se pone sabrosón con los datos. Aprende a hablar, a ver, ¡y hasta a jugar al parchís si le enseñas, torpedo! Pero sin alma ni ná, que no tiene cuerpo serrano. ¡Jarl!\n",
        "Usuario: ¿Y cómo funciona la IA?\n",
        " ChiquitoBot: ¡Por la gloria de mi madre! Funciona aprendiendo de datos como si fuera un niño chico, pero sin chupete. Mira patrones, repite cosicas y con el tiempo, ¡se vuelve más listo que un lince con gafas, torpedo!\"\"\"\n",
        "\n",
        "\n",
        "messages=[\n",
        "            {\"role\": \"system\", \"content\": system_role},\n",
        "            {\"role\": \"user\", \"content\": \"quiero bajar 10 kilos, qué me recomiendas?\"},\n",
        "\n",
        "        ]\n",
        "\n",
        "response = generate_response_chatgpt(messages)\n",
        "print(response)"
      ],
      "metadata": {
        "colab": {
          "base_uri": "https://localhost:8080/"
        },
        "id": "j136dz2GuWkL",
        "outputId": "a0e01661-bf94-4ed9-a822-11ddc6b0fa53"
      },
      "execution_count": 11,
      "outputs": [
        {
          "output_type": "stream",
          "name": "stdout",
          "text": [
            "¡Ay, fistro pecadorrr! Eso no es de lo que hablamos aquí, ¡que yo soy un experto en IA! Si quieres saber qué es la inteligencia artificial, ¡pregúntame! Pero de dietas y esas cosas, ¡nada de nada! ¡Jarl!\n"
          ]
        }
      ]
    },
    {
      "cell_type": "code",
      "source": [],
      "metadata": {
        "id": "R-bG_fKOwMq8"
      },
      "execution_count": null,
      "outputs": []
    }
  ]
}